{
 "cells": [
  {
   "cell_type": "code",
   "execution_count": 7,
   "metadata": {},
   "outputs": [
    {
     "name": "stdout",
     "output_type": "stream",
     "text": [
      "Requirement already satisfied: seaborn in c:\\users\\trist\\appdata\\roaming\\python\\python312\\site-packages (0.13.2)\n",
      "Requirement already satisfied: numpy!=1.24.0,>=1.20 in c:\\python312\\lib\\site-packages (from seaborn) (1.26.4)\n",
      "Requirement already satisfied: pandas>=1.2 in c:\\python312\\lib\\site-packages (from seaborn) (2.2.1)\n",
      "Requirement already satisfied: matplotlib!=3.6.1,>=3.4 in c:\\users\\trist\\appdata\\roaming\\python\\python312\\site-packages (from seaborn) (3.8.3)\n",
      "Requirement already satisfied: contourpy>=1.0.1 in c:\\users\\trist\\appdata\\roaming\\python\\python312\\site-packages (from matplotlib!=3.6.1,>=3.4->seaborn) (1.2.0)\n",
      "Requirement already satisfied: cycler>=0.10 in c:\\users\\trist\\appdata\\roaming\\python\\python312\\site-packages (from matplotlib!=3.6.1,>=3.4->seaborn) (0.12.1)\n",
      "Requirement already satisfied: fonttools>=4.22.0 in c:\\python312\\lib\\site-packages (from matplotlib!=3.6.1,>=3.4->seaborn) (4.50.0)\n",
      "Requirement already satisfied: kiwisolver>=1.3.1 in c:\\python312\\lib\\site-packages (from matplotlib!=3.6.1,>=3.4->seaborn) (1.4.5)\n",
      "Requirement already satisfied: packaging>=20.0 in c:\\users\\trist\\appdata\\roaming\\python\\python312\\site-packages (from matplotlib!=3.6.1,>=3.4->seaborn) (24.0)\n",
      "Requirement already satisfied: pillow>=8 in c:\\python312\\lib\\site-packages (from matplotlib!=3.6.1,>=3.4->seaborn) (10.2.0)\n",
      "Requirement already satisfied: pyparsing>=2.3.1 in c:\\python312\\lib\\site-packages (from matplotlib!=3.6.1,>=3.4->seaborn) (3.1.2)\n",
      "Requirement already satisfied: python-dateutil>=2.7 in c:\\python312\\lib\\site-packages (from matplotlib!=3.6.1,>=3.4->seaborn) (2.8.2)\n",
      "Requirement already satisfied: pytz>=2020.1 in c:\\python312\\lib\\site-packages (from pandas>=1.2->seaborn) (2024.1)\n",
      "Requirement already satisfied: tzdata>=2022.7 in c:\\python312\\lib\\site-packages (from pandas>=1.2->seaborn) (2024.1)\n",
      "Requirement already satisfied: six>=1.5 in c:\\python312\\lib\\site-packages (from python-dateutil>=2.7->matplotlib!=3.6.1,>=3.4->seaborn) (1.16.0)\n",
      "Note: you may need to restart the kernel to use updated packages.\n"
     ]
    }
   ],
   "source": [
    "%pip install seaborn --user"
   ]
  },
  {
   "cell_type": "code",
   "execution_count": 8,
   "metadata": {},
   "outputs": [],
   "source": [
    "import pandas as pd\n",
    "import seaborn as sns\n",
    "import matplotlib.pyplot as plt\n",
    "import numpy as np\n",
    "import matplotlib.ticker as ticker"
   ]
  },
  {
   "cell_type": "code",
   "execution_count": 9,
   "metadata": {},
   "outputs": [
    {
     "data": {
      "text/plain": [
       "(21, 20)"
      ]
     },
     "execution_count": 9,
     "metadata": {},
     "output_type": "execute_result"
    }
   ],
   "source": [
    "# Import data\n",
    "df = pd.read_csv('beach_vb.csv')\n",
    "# Remove timestamp column\n",
    "df = df.drop(columns=['Timestamp'])\n",
    "# Drop empty first row\n",
    "df = df.drop([0])\n",
    "\n",
    "# Convert all team names to lowercase\n",
    "df['Team Name/Number'] = df['Team Name/Number'].str.lower()\n",
    "\n",
    "df.shape\n",
    "# (Observations, Columns)"
   ]
  },
  {
   "cell_type": "code",
   "execution_count": 10,
   "metadata": {},
   "outputs": [
    {
     "data": {
      "text/plain": [
       "Team Name/Number                                                                            4\n",
       "Pre-condition                                                                               2\n",
       "Score after point                                                                          20\n",
       "How was the point determined (responsibility)?                                              2\n",
       "Which player(s) on team being observed was responsible for winning or losing the point?     5\n",
       "How was the point won/lost?                                                                 4\n",
       "Quality of Point                                                                            5\n",
       "Type of Interaction                                                                        11\n",
       "Quality of High-Fives / Physical Interaction                                                5\n",
       "Quality of Verbal Interaction                                                               4\n",
       "Who high-fived who? [Setter]                                                                9\n",
       "Who high-fived who? [Outside Hitter]                                                       10\n",
       "Who high-fived who? [Rightside Hitter]                                                     11\n",
       "Who high-fived who? [Middle]                                                                6\n",
       "Who talked to who? [Setter]                                                                 6\n",
       "Who talked to who? [Outside Hitter]                                                         4\n",
       "Who talked to who? [Rightside Hitter]                                                       2\n",
       "Who talked to who? [Middle]                                                                 5\n",
       "Length of play                                                                              5\n",
       "Team Sex                                                                                    2\n",
       "dtype: int64"
      ]
     },
     "execution_count": 10,
     "metadata": {},
     "output_type": "execute_result"
    }
   ],
   "source": [
    "df.nunique()"
   ]
  },
  {
   "cell_type": "code",
   "execution_count": 11,
   "metadata": {},
   "outputs": [
    {
     "data": {
      "text/plain": [
       "Index(['team_name/number', 'pre-condition_', 'score_after_point',\n",
       "       'how_was_the_point_determined_(responsibility)?',\n",
       "       'which_player(s)_on_team_being_observed_was_responsible_for_winning_or_losing_the_point?',\n",
       "       'how_was_the_point_won/lost?', 'quality_of_point',\n",
       "       'type_of_interaction', 'quality_of_high-fives_/_physical_interaction',\n",
       "       'quality_of_verbal_interaction', 'who_high-fived_who?_[setter]',\n",
       "       'who_high-fived_who?_[outside_hitter]',\n",
       "       'who_high-fived_who?_[rightside_hitter]',\n",
       "       'who_high-fived_who?_[middle]', 'who_talked_to_who?_[setter]',\n",
       "       'who_talked_to_who?_[outside_hitter]',\n",
       "       'who_talked_to_who?_[rightside_hitter]', 'who_talked_to_who?_[middle]',\n",
       "       'length_of_play', 'team_sex'],\n",
       "      dtype='object')"
      ]
     },
     "execution_count": 11,
     "metadata": {},
     "output_type": "execute_result"
    }
   ],
   "source": [
    "# Rename columns for consistency\n",
    "df.columns = df.columns.str.replace(' ', '_').str.lower()\n",
    "df.columns"
   ]
  },
  {
   "cell_type": "code",
   "execution_count": 12,
   "metadata": {},
   "outputs": [
    {
     "data": {
      "text/plain": [
       "team_name/number                                                                            0\n",
       "pre-condition_                                                                              0\n",
       "score_after_point                                                                           0\n",
       "how_was_the_point_determined_(responsibility)?                                              0\n",
       "which_player(s)_on_team_being_observed_was_responsible_for_winning_or_losing_the_point?     0\n",
       "how_was_the_point_won/lost?                                                                 0\n",
       "quality_of_point                                                                            0\n",
       "type_of_interaction                                                                         0\n",
       "quality_of_high-fives_/_physical_interaction                                                0\n",
       "quality_of_verbal_interaction                                                               1\n",
       "who_high-fived_who?_[setter]                                                                4\n",
       "who_high-fived_who?_[outside_hitter]                                                        7\n",
       "who_high-fived_who?_[rightside_hitter]                                                      6\n",
       "who_high-fived_who?_[middle]                                                                8\n",
       "who_talked_to_who?_[setter]                                                                 5\n",
       "who_talked_to_who?_[outside_hitter]                                                        15\n",
       "who_talked_to_who?_[rightside_hitter]                                                      12\n",
       "who_talked_to_who?_[middle]                                                                12\n",
       "length_of_play                                                                              0\n",
       "team_sex                                                                                    0\n",
       "dtype: int64"
      ]
     },
     "execution_count": 12,
     "metadata": {},
     "output_type": "execute_result"
    }
   ],
   "source": [
    "# Find NaN values\n",
    "df.isna().sum()"
   ]
  },
  {
   "cell_type": "code",
   "execution_count": 13,
   "metadata": {},
   "outputs": [
    {
     "data": {
      "text/html": [
       "<div>\n",
       "<style scoped>\n",
       "    .dataframe tbody tr th:only-of-type {\n",
       "        vertical-align: middle;\n",
       "    }\n",
       "\n",
       "    .dataframe tbody tr th {\n",
       "        vertical-align: top;\n",
       "    }\n",
       "\n",
       "    .dataframe thead th {\n",
       "        text-align: right;\n",
       "    }\n",
       "</style>\n",
       "<table border=\"1\" class=\"dataframe\">\n",
       "  <thead>\n",
       "    <tr style=\"text-align: right;\">\n",
       "      <th></th>\n",
       "      <th>team_name/number</th>\n",
       "      <th>pre-condition_</th>\n",
       "      <th>score_after_point</th>\n",
       "      <th>how_was_the_point_determined_(responsibility)?</th>\n",
       "      <th>which_player(s)_on_team_being_observed_was_responsible_for_winning_or_losing_the_point?</th>\n",
       "      <th>how_was_the_point_won/lost?</th>\n",
       "      <th>quality_of_point</th>\n",
       "      <th>type_of_interaction</th>\n",
       "      <th>quality_of_high-fives_/_physical_interaction</th>\n",
       "      <th>quality_of_verbal_interaction</th>\n",
       "      <th>who_high-fived_who?_[setter]</th>\n",
       "      <th>who_high-fived_who?_[outside_hitter]</th>\n",
       "      <th>who_high-fived_who?_[rightside_hitter]</th>\n",
       "      <th>who_high-fived_who?_[middle]</th>\n",
       "      <th>who_talked_to_who?_[setter]</th>\n",
       "      <th>who_talked_to_who?_[outside_hitter]</th>\n",
       "      <th>who_talked_to_who?_[rightside_hitter]</th>\n",
       "      <th>who_talked_to_who?_[middle]</th>\n",
       "      <th>length_of_play</th>\n",
       "      <th>team_sex</th>\n",
       "    </tr>\n",
       "  </thead>\n",
       "  <tbody>\n",
       "    <tr>\n",
       "      <th>1</th>\n",
       "      <td>yellow</td>\n",
       "      <td>Point Won</td>\n",
       "      <td>1-0</td>\n",
       "      <td>Successful Offense</td>\n",
       "      <td>Right Side Hitter</td>\n",
       "      <td>Hit</td>\n",
       "      <td>4.0</td>\n",
       "      <td>HF (High-Five), PS (Physical Support), VS (Ver...</td>\n",
       "      <td>4.0</td>\n",
       "      <td>3.0</td>\n",
       "      <td>Setter, Outside Hitter, Rightside Hitter, Back...</td>\n",
       "      <td>Setter, Rightside Hitter, Back row</td>\n",
       "      <td>Setter, Outside Hitter, Back row</td>\n",
       "      <td>Setter, Outside Hitter, Rightside Hitter</td>\n",
       "      <td>Rightside Hitter</td>\n",
       "      <td>NaN</td>\n",
       "      <td>Setter</td>\n",
       "      <td>NaN</td>\n",
       "      <td>2.0</td>\n",
       "      <td>Female</td>\n",
       "    </tr>\n",
       "    <tr>\n",
       "      <th>2</th>\n",
       "      <td>yellow</td>\n",
       "      <td>Point Won</td>\n",
       "      <td>3-1</td>\n",
       "      <td>Mistake</td>\n",
       "      <td>Right Side Hitter</td>\n",
       "      <td>Hit</td>\n",
       "      <td>1.0</td>\n",
       "      <td>HF (High-Five), PS (Physical Support), VS (Ver...</td>\n",
       "      <td>2.0</td>\n",
       "      <td>2.0</td>\n",
       "      <td>Setter, Outside Hitter, Rightside Hitter, Back...</td>\n",
       "      <td>Setter, Outside Hitter, Rightside Hitter, Back...</td>\n",
       "      <td>Setter, Outside Hitter, Rightside Hitter, Back...</td>\n",
       "      <td>Setter, Outside Hitter, Rightside Hitter, Back...</td>\n",
       "      <td>NaN</td>\n",
       "      <td>NaN</td>\n",
       "      <td>NaN</td>\n",
       "      <td>Setter, Outside Hitter, Rightside Hitter, Back...</td>\n",
       "      <td>3.0</td>\n",
       "      <td>Female</td>\n",
       "    </tr>\n",
       "    <tr>\n",
       "      <th>3</th>\n",
       "      <td>yellow</td>\n",
       "      <td>Point Lost</td>\n",
       "      <td>4-3</td>\n",
       "      <td>Successful Offense</td>\n",
       "      <td>Outside Hitter</td>\n",
       "      <td>Hit</td>\n",
       "      <td>4.0</td>\n",
       "      <td>HF (High-Five), VS (Verbal Support)</td>\n",
       "      <td>1.0</td>\n",
       "      <td>1.0</td>\n",
       "      <td>Back row</td>\n",
       "      <td>Back row</td>\n",
       "      <td>NaN</td>\n",
       "      <td>NaN</td>\n",
       "      <td>NaN</td>\n",
       "      <td>NaN</td>\n",
       "      <td>NaN</td>\n",
       "      <td>NaN</td>\n",
       "      <td>3.0</td>\n",
       "      <td>Female</td>\n",
       "    </tr>\n",
       "    <tr>\n",
       "      <th>4</th>\n",
       "      <td>yellow</td>\n",
       "      <td>Point Won</td>\n",
       "      <td>7-4</td>\n",
       "      <td>Successful Offense</td>\n",
       "      <td>Back-row</td>\n",
       "      <td>Hit</td>\n",
       "      <td>3.0</td>\n",
       "      <td>HF (High-Five), PS (Physical Support), VC (Ver...</td>\n",
       "      <td>2.0</td>\n",
       "      <td>2.0</td>\n",
       "      <td>Back row</td>\n",
       "      <td>Back row</td>\n",
       "      <td>Back row</td>\n",
       "      <td>Setter</td>\n",
       "      <td>Back row</td>\n",
       "      <td>NaN</td>\n",
       "      <td>NaN</td>\n",
       "      <td>Setter</td>\n",
       "      <td>1.0</td>\n",
       "      <td>Female</td>\n",
       "    </tr>\n",
       "    <tr>\n",
       "      <th>5</th>\n",
       "      <td>yellow</td>\n",
       "      <td>Point Won</td>\n",
       "      <td>9-4</td>\n",
       "      <td>Successful Offense</td>\n",
       "      <td>Setter</td>\n",
       "      <td>Block</td>\n",
       "      <td>4.0</td>\n",
       "      <td>HF (High-Five), PS (Physical Support), VS (Ver...</td>\n",
       "      <td>4.0</td>\n",
       "      <td>4.0</td>\n",
       "      <td>Setter, Outside Hitter, Rightside Hitter, Back...</td>\n",
       "      <td>Setter</td>\n",
       "      <td>Setter, Rightside Hitter</td>\n",
       "      <td>Setter</td>\n",
       "      <td>Setter</td>\n",
       "      <td>NaN</td>\n",
       "      <td>Setter</td>\n",
       "      <td>Setter</td>\n",
       "      <td>3.0</td>\n",
       "      <td>Female</td>\n",
       "    </tr>\n",
       "  </tbody>\n",
       "</table>\n",
       "</div>"
      ],
      "text/plain": [
       "  team_name/number pre-condition_ score_after_point  \\\n",
       "1           yellow      Point Won               1-0   \n",
       "2           yellow      Point Won               3-1   \n",
       "3           yellow     Point Lost               4-3   \n",
       "4           yellow      Point Won               7-4   \n",
       "5           yellow      Point Won               9-4   \n",
       "\n",
       "  how_was_the_point_determined_(responsibility)?  \\\n",
       "1                             Successful Offense   \n",
       "2                                        Mistake   \n",
       "3                             Successful Offense   \n",
       "4                             Successful Offense   \n",
       "5                             Successful Offense   \n",
       "\n",
       "  which_player(s)_on_team_being_observed_was_responsible_for_winning_or_losing_the_point?  \\\n",
       "1                                  Right Side Hitter                                        \n",
       "2                                  Right Side Hitter                                        \n",
       "3                                     Outside Hitter                                        \n",
       "4                                           Back-row                                        \n",
       "5                                             Setter                                        \n",
       "\n",
       "  how_was_the_point_won/lost?  quality_of_point  \\\n",
       "1                         Hit               4.0   \n",
       "2                         Hit               1.0   \n",
       "3                         Hit               4.0   \n",
       "4                         Hit               3.0   \n",
       "5                       Block               4.0   \n",
       "\n",
       "                                 type_of_interaction  \\\n",
       "1  HF (High-Five), PS (Physical Support), VS (Ver...   \n",
       "2  HF (High-Five), PS (Physical Support), VS (Ver...   \n",
       "3                HF (High-Five), VS (Verbal Support)   \n",
       "4  HF (High-Five), PS (Physical Support), VC (Ver...   \n",
       "5  HF (High-Five), PS (Physical Support), VS (Ver...   \n",
       "\n",
       "   quality_of_high-fives_/_physical_interaction  \\\n",
       "1                                           4.0   \n",
       "2                                           2.0   \n",
       "3                                           1.0   \n",
       "4                                           2.0   \n",
       "5                                           4.0   \n",
       "\n",
       "   quality_of_verbal_interaction  \\\n",
       "1                            3.0   \n",
       "2                            2.0   \n",
       "3                            1.0   \n",
       "4                            2.0   \n",
       "5                            4.0   \n",
       "\n",
       "                        who_high-fived_who?_[setter]  \\\n",
       "1  Setter, Outside Hitter, Rightside Hitter, Back...   \n",
       "2  Setter, Outside Hitter, Rightside Hitter, Back...   \n",
       "3                                           Back row   \n",
       "4                                           Back row   \n",
       "5  Setter, Outside Hitter, Rightside Hitter, Back...   \n",
       "\n",
       "                who_high-fived_who?_[outside_hitter]  \\\n",
       "1                 Setter, Rightside Hitter, Back row   \n",
       "2  Setter, Outside Hitter, Rightside Hitter, Back...   \n",
       "3                                           Back row   \n",
       "4                                           Back row   \n",
       "5                                             Setter   \n",
       "\n",
       "              who_high-fived_who?_[rightside_hitter]  \\\n",
       "1                   Setter, Outside Hitter, Back row   \n",
       "2  Setter, Outside Hitter, Rightside Hitter, Back...   \n",
       "3                                                NaN   \n",
       "4                                           Back row   \n",
       "5                           Setter, Rightside Hitter   \n",
       "\n",
       "                        who_high-fived_who?_[middle]  \\\n",
       "1           Setter, Outside Hitter, Rightside Hitter   \n",
       "2  Setter, Outside Hitter, Rightside Hitter, Back...   \n",
       "3                                                NaN   \n",
       "4                                             Setter   \n",
       "5                                             Setter   \n",
       "\n",
       "  who_talked_to_who?_[setter] who_talked_to_who?_[outside_hitter]  \\\n",
       "1            Rightside Hitter                                 NaN   \n",
       "2                         NaN                                 NaN   \n",
       "3                         NaN                                 NaN   \n",
       "4                    Back row                                 NaN   \n",
       "5                      Setter                                 NaN   \n",
       "\n",
       "  who_talked_to_who?_[rightside_hitter]  \\\n",
       "1                                Setter   \n",
       "2                                   NaN   \n",
       "3                                   NaN   \n",
       "4                                   NaN   \n",
       "5                                Setter   \n",
       "\n",
       "                         who_talked_to_who?_[middle]  length_of_play team_sex  \n",
       "1                                                NaN             2.0   Female  \n",
       "2  Setter, Outside Hitter, Rightside Hitter, Back...             3.0   Female  \n",
       "3                                                NaN             3.0   Female  \n",
       "4                                             Setter             1.0   Female  \n",
       "5                                             Setter             3.0   Female  "
      ]
     },
     "execution_count": 13,
     "metadata": {},
     "output_type": "execute_result"
    }
   ],
   "source": [
    "df.head()"
   ]
  },
  {
   "cell_type": "code",
   "execution_count": 14,
   "metadata": {},
   "outputs": [
    {
     "name": "stderr",
     "output_type": "stream",
     "text": [
      "C:\\Users\\trist\\AppData\\Local\\Temp\\ipykernel_30608\\395602644.py:12: FutureWarning: DataFrame.applymap has been deprecated. Use DataFrame.map instead.\n",
      "  df['high_five_count'] = df[high_five_columns].applymap(count_high_fives).sum(axis=1)\n",
      "C:\\Users\\trist\\AppData\\Local\\Temp\\ipykernel_30608\\395602644.py:21: FutureWarning: \n",
      "\n",
      "Passing `palette` without assigning `hue` is deprecated and will be removed in v0.14.0. Assign the `x` variable to `hue` and set `legend=False` for the same effect.\n",
      "\n",
      "  ax = sns.barplot(x=average_high_fives_per_point_per_gender.index, y=average_high_fives_per_point_per_gender.values, palette='viridis')\n"
     ]
    },
    {
     "data": {
      "image/png": "[encoded data removed]",
      "text/plain": [
       "<Figure size 640x480 with 1 Axes>"
      ]
     },
     "metadata": {},
     "output_type": "display_data"
    }
   ],
   "source": [
    "# AVERAGE NUMBER OF HIGH-FIVES PER POINT FOR EACH GENDER\n",
    "high_five_columns = [col for col in df.columns if 'who_high-fived_who?' in col]\n",
    "# Define a function to count high-fives based on the strings in the cells\n",
    "def count_high_fives(cell):\n",
    "    # Split the string by commas and count the non-empty elements\n",
    "    if pd.isna(cell) or cell == '':\n",
    "        return 0\n",
    "    return len(cell.split(','))\n",
    "# Select columns that contain high-five data\n",
    "high_five_columns = [col for col in df.columns if 'who_high-fived_who?' in col]\n",
    "# Apply the count_high_fives function to each cell in the high-five columns\n",
    "df['high_five_count'] = df[high_five_columns].applymap(count_high_fives).sum(axis=1)\n",
    "# Group by 'team_sex' and calculate the total number of high fives\n",
    "total_high_fives_by_gender = df.groupby('team_sex')['high_five_count'].sum()\n",
    "# Find total number of rows for each gender\n",
    "total_rows = df.groupby('team_sex')['high_five_count'].count()\n",
    "# # Calculate the average number of high-fives per point per gender\n",
    "average_high_fives_per_point_per_gender = total_high_fives_by_gender / total_rows\n",
    "\n",
    "# PLOTTING\n",
    "ax = sns.barplot(x=average_high_fives_per_point_per_gender.index, y=average_high_fives_per_point_per_gender.values, palette='viridis')\n",
    "# Add title and labels\n",
    "plt.title('Average Number of High-Fives per Point per Gender')\n",
    "plt.xlabel('Gender')\n",
    "plt.ylabel('Average Number of High-Fives per Point')\n",
    "# Loop over the bars and add the data labels\n",
    "for p in ax.patches:\n",
    "    ax.annotate(format(p.get_height(), '.2f'), \n",
    "                (p.get_x() + p.get_width() / 2., p.get_height() + 0.1),  # The 0.1 adds a slight height to the annotations\n",
    "                ha='center', va='center', \n",
    "                xytext=(0, 10), textcoords='offset points')\n",
    "# Adjust the y-axis to add more space at the top of the plot\n",
    "ymax = ax.get_ylim()[1]  # Get current maximum y-value\n",
    "ax.set_ylim(top=ymax + 0.5)  # Increase maximum y-value to make room for annotations\n",
    "plt.show()"
   ]
  },
  {
   "cell_type": "code",
   "execution_count": 15,
   "metadata": {},
   "outputs": [
    {
     "name": "stderr",
     "output_type": "stream",
     "text": [
      "C:\\Users\\trist\\AppData\\Local\\Temp\\ipykernel_30608\\2785234113.py:11: FutureWarning: DataFrame.applymap has been deprecated. Use DataFrame.map instead.\n",
      "  df['verbal_encouragement_count'] = df[verbal_encouragement_columns].applymap(count_verbal_interactions).sum(axis=1)\n",
      "C:\\Users\\trist\\AppData\\Local\\Temp\\ipykernel_30608\\2785234113.py:23: FutureWarning: \n",
      "\n",
      "Passing `palette` without assigning `hue` is deprecated and will be removed in v0.14.0. Assign the `x` variable to `hue` and set `legend=False` for the same effect.\n",
      "\n",
      "  ax = sns.barplot(x=average_verbal_interactions_per_point_per_gender.index, y=average_verbal_interactions_per_point_per_gender.values, palette='rocket')\n"
     ]
    },
    {
     "data": {
      "image/png": "[encoded data removed]",
      "text/plain": [
       "<Figure size 640x480 with 1 Axes>"
      ]
     },
     "metadata": {},
     "output_type": "display_data"
    }
   ],
   "source": [
    "# Define a function to count verbal interactions\n",
    "def count_verbal_interactions(cell):\n",
    "    if pd.isna(cell) or cell == '':\n",
    "        return 0\n",
    "    return len(cell.split(','))\n",
    "\n",
    "# Identify columns that contain verbal encouragement data\n",
    "verbal_encouragement_columns = [col for col in df.columns if 'who_talked_to_who?' in col]\n",
    "\n",
    "# Apply the count_verbal_interactions function to each cell in the verbal encouragement columns\n",
    "df['verbal_encouragement_count'] = df[verbal_encouragement_columns].applymap(count_verbal_interactions).sum(axis=1)\n",
    "\n",
    "# Calculate the total number of verbal interactions by gender\n",
    "total_verbal_interactions_by_gender = df.groupby('team_sex')['verbal_encouragement_count'].sum()\n",
    "\n",
    "# Find the total number of rows for each gender (assuming each row is a point)\n",
    "total_points_by_gender = df.groupby('team_sex').size()\n",
    "\n",
    "# Calculate the average number of verbal interactions per point per gender\n",
    "average_verbal_interactions_per_point_per_gender = total_verbal_interactions_by_gender / total_points_by_gender\n",
    "\n",
    "# PLOTTING\n",
    "ax = sns.barplot(x=average_verbal_interactions_per_point_per_gender.index, y=average_verbal_interactions_per_point_per_gender.values, palette='rocket')\n",
    "# Add title and labels\n",
    "plt.title('Average Number of Verbal Interactions per Point per Gender')\n",
    "plt.xlabel('Gender')\n",
    "plt.ylabel('Average Number of Verbal Interactions per Point')\n",
    "# Loop over the bars and add the data labels\n",
    "for p in ax.patches:\n",
    "    ax.annotate(format(p.get_height(), '.2f'), \n",
    "                (p.get_x() + p.get_width() / 2., p.get_height() + 0.1),  # The 0.1 adds a slight height to the annotations\n",
    "                ha='center', va='center', \n",
    "                xytext=(0, 10), textcoords='offset points')\n",
    "# Adjust the y-axis to add more space at the top of the plot\n",
    "ymax = ax.get_ylim()[1]  # Get current maximum y-value\n",
    "ax.set_ylim(top=ymax + 0.5)  # Increase maximum y-value to make room for annotations\n",
    "plt.show()\n"
   ]
  },
  {
   "cell_type": "code",
   "execution_count": 17,
   "metadata": {},
   "outputs": [
    {
     "name": "stderr",
     "output_type": "stream",
     "text": [
      "C:\\Users\\trist\\AppData\\Local\\Temp\\ipykernel_30608\\4067907433.py:26: FutureWarning: \n",
      "\n",
      "Passing `palette` without assigning `hue` is deprecated and will be removed in v0.14.0. Assign the `x` variable to `hue` and set `legend=False` for the same effect.\n",
      "\n",
      "  ax = sns.barplot(x=interaction_counts_series.index, y=interaction_counts_series.values, palette='viridis')\n"
     ]
    },
    {
     "data": {
      "image/png": "[encoded data removed]",
      "text/plain": [
       "<Figure size 1000x600 with 1 Axes>"
      ]
     },
     "metadata": {},
     "output_type": "display_data"
    }
   ],
   "source": [
    "def count_interactions(cell):\n",
    "    # Ensure the function operates on strings and handles NaN values or unexpected data types gracefully\n",
    "    if pd.isna(cell):\n",
    "        return 0\n",
    "    elif isinstance(cell, str):\n",
    "        # Correctly split strings and return count\n",
    "        return len(cell.split(', ')) if cell != '' else 0\n",
    "    else:\n",
    "        # Log unexpected data type for debugging\n",
    "        print(f\"Unexpected data type in cell: {cell}\")\n",
    "        return 0\n",
    "interaction_counts = {}\n",
    "# Apply this function across your DataFrame's relevant columns\n",
    "for col in df.columns:\n",
    "    if 'who_high-fived_who?' in col or 'who_talked_to_who?' in col:\n",
    "        position = col.split('[')[-1].split(']')[0].lower()\n",
    "        # Explicitly ensure each cell is processed as expected\n",
    "        counts = df[col].apply(lambda x: count_interactions(x))\n",
    "        total_count = counts.sum()\n",
    "        # Accumulate counts by position\n",
    "        interaction_counts[position] = interaction_counts.get(position, 0) + total_count\n",
    "        \n",
    "interaction_counts_series = pd.Series(interaction_counts).sort_values(ascending=False)\n",
    "\n",
    "plt.figure(figsize=(10, 6))\n",
    "ax = sns.barplot(x=interaction_counts_series.index, y=interaction_counts_series.values, palette='viridis')\n",
    "plt.title('Total Interactions by Player Position')\n",
    "plt.xlabel('Player Position')\n",
    "plt.ylabel('Total Interactions Count')\n",
    "plt.xticks(rotation=45)\n",
    "\n",
    "plt.show()"
   ]
  },
  {
   "cell_type": "code",
   "execution_count": null,
   "metadata": {},
   "outputs": [],
   "source": []
  }
 ],
 "metadata": {
  "kernelspec": {
   "display_name": "Python 3",
   "language": "python",
   "name": "python3"
  },
  "language_info": {
   "codemirror_mode": {
    "name": "ipython",
    "version": 3
   },
   "file_extension": ".py",
   "mimetype": "text/x-python",
   "name": "python",
   "nbconvert_exporter": "python",
   "pygments_lexer": "ipython3",
   "version": "3.12.2"
  }
 },
 "nbformat": 4,
 "nbformat_minor": 2
}
